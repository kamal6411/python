{
 "cells": [
  {
   "cell_type": "code",
   "execution_count": null,
   "id": "d12e139b-9a4a-413b-b4ed-4a0dc43692d9",
   "metadata": {},
   "outputs": [],
   "source": [
    "# MINION GAME \n",
    "\n",
    "\n",
    "# Kevin and Stuart want to play the 'The Minion Game'.\n",
    "# Game Rules\n",
    "\n",
    "# Both players are given the same string, S .\n",
    "# Both players have to make substrings using the letters of the string .\n",
    "# Stuart has to make words starting with consonants.\n",
    "# Kevin has to make words starting with vowels.\n",
    "# The game ends when both players have made all possible substrings.\n",
    "\n",
    "# Scoring\n",
    "# A player gets +1 point for each occurrence of the substring in the string .\n",
    "\n",
    "# For Example:\n",
    "# String S  = BANANA\n",
    "# Kevin's vowel beginning word = ANA\n",
    "# Here, ANA occurs twice in BANANA. Hence, Kevin will get 2 Points.\n",
    "\n",
    "# For better understanding, see the image below:\n",
    "    \n",
    "# Your task is to determine the winner of the game and their score.\n",
    "\n",
    "# Function Description\n",
    "\n",
    "# Complete the minion_game.\n",
    "\n",
    "# minion_game has the following parameters:\n",
    "\n",
    "# \tthe string to analyze\n",
    "\n",
    "\n",
    "# \tsthe winner's name and score, separated by a space on one line, or Draw if there is no winner\n",
    "# Input Format\n",
    "\n",
    "# A single line of input containing the string S.\n",
    "# Note: The string S will contain only uppercase letters:[A-Z] .\n",
    "\n",
    "\n",
    "\n",
    "#Sample Input\n",
    "\n",
    "#BANANA\n",
    "#Sample Output\n",
    "\n",
    "#Stuart 12\n",
    "#Note :\n",
    "#Vowels are only defined as AEIOU . In this problem, Y is not considered a vowel.\n",
    "    \n"
   ]
  },
  {
   "cell_type": "code",
   "execution_count": null,
   "id": "89b88aa1-0612-4c39-aa8b-3f6c879842df",
   "metadata": {},
   "outputs": [],
   "source": []
  }
 ],
 "metadata": {
  "kernelspec": {
   "display_name": "Python 3 (ipykernel)",
   "language": "python",
   "name": "python3"
  },
  "language_info": {
   "codemirror_mode": {
    "name": "ipython",
    "version": 3
   },
   "file_extension": ".py",
   "mimetype": "text/x-python",
   "name": "python",
   "nbconvert_exporter": "python",
   "pygments_lexer": "ipython3",
   "version": "3.12.7"
  }
 },
 "nbformat": 4,
 "nbformat_minor": 5
}
